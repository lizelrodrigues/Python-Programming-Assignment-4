{
 "cells": [
  {
   "cell_type": "code",
   "execution_count": null,
   "id": "c946b45b",
   "metadata": {},
   "outputs": [],
   "source": [
    "#Python Programming Assignment 4"
   ]
  },
  {
   "cell_type": "markdown",
   "id": "0eafe1c7",
   "metadata": {},
   "source": [
    "1.Write a Python Program to Find the Factorial of a Number?"
   ]
  },
  {
   "cell_type": "code",
   "execution_count": 7,
   "id": "7fc6cfa5",
   "metadata": {},
   "outputs": [
    {
     "name": "stdout",
     "output_type": "stream",
     "text": [
      "Enter a number: 7\n",
      "The factorial of the number 7 is 5040\n"
     ]
    }
   ],
   "source": [
    "n=int(input(\"Enter a number: \"))\n",
    "factorial=1\n",
    "for i in range(1,n+1):\n",
    "    factorial=factorial*i\n",
    "    i=i+1\n",
    "print(\"The factorial of the number\",n,\"is\",factorial)"
   ]
  },
  {
   "cell_type": "markdown",
   "id": "967d3485",
   "metadata": {},
   "source": [
    "2.Write a Python Program to Display the multiplication Table?"
   ]
  },
  {
   "cell_type": "code",
   "execution_count": 2,
   "id": "d8e08945",
   "metadata": {},
   "outputs": [
    {
     "name": "stdout",
     "output_type": "stream",
     "text": [
      "Enter a number: 74\n",
      "The Multiplication table of 74 is:\n",
      "74 x 1 = 74\n",
      "74 x 2 = 148\n",
      "74 x 3 = 222\n",
      "74 x 4 = 296\n",
      "74 x 5 = 370\n",
      "74 x 6 = 444\n",
      "74 x 7 = 518\n",
      "74 x 8 = 592\n",
      "74 x 9 = 666\n",
      "74 x 10 = 740\n"
     ]
    }
   ],
   "source": [
    "n=int(input(\"Enter a number: \"))\n",
    "print (\"The Multiplication table of\",n,\"is:\")\n",
    "for i in range(1,11):\n",
    "    print(n,\"x\",i,\"=\",n*i)"
   ]
  },
  {
   "cell_type": "markdown",
   "id": "25aab2da",
   "metadata": {},
   "source": [
    "3.Write a Python Program to Print the Fibonacci sequence?"
   ]
  },
  {
   "cell_type": "code",
   "execution_count": 10,
   "id": "52a6a200",
   "metadata": {},
   "outputs": [
    {
     "name": "stdout",
     "output_type": "stream",
     "text": [
      "Enter a number: 18\n",
      "0\n",
      "1\n",
      "1\n",
      "2\n",
      "3\n",
      "5\n",
      "8\n",
      "13\n",
      "21\n",
      "34\n",
      "55\n",
      "89\n",
      "144\n",
      "233\n",
      "377\n",
      "610\n",
      "987\n",
      "1597\n"
     ]
    }
   ],
   "source": [
    "n=int(input(\"Enter a number: \"))\n",
    "a=0\n",
    "b=1\n",
    "if n==0:\n",
    "    print(\"0\")\n",
    "elif n<0:\n",
    "    print(\"invalid\")\n",
    "else:\n",
    "    print(a)\n",
    "    print(b)\n",
    "    for i in range(2,n):\n",
    "        c=a+b\n",
    "        a=b\n",
    "        b=c\n",
    "        print(c)"
   ]
  },
  {
   "cell_type": "markdown",
   "id": "980ca460",
   "metadata": {},
   "source": [
    "4.Write a Python Program to Check Armstrong Number?"
   ]
  },
  {
   "cell_type": "code",
   "execution_count": 12,
   "id": "2b71be29",
   "metadata": {},
   "outputs": [
    {
     "name": "stdout",
     "output_type": "stream",
     "text": [
      "Enter a number: 153\n",
      "The number 153 is an Armstrong number\n"
     ]
    }
   ],
   "source": [
    "n = int(input(\"Enter a number: \"))\n",
    "c = 0\n",
    "d=n\n",
    "o=len(str(n))\n",
    "while d>0:\n",
    "    s=d%10\n",
    "    c=c + (s**o)\n",
    "    d = d// 10\n",
    "if n==c:\n",
    "    print(\"The number\",n,\"is an Armstrong number\")\n",
    "else:\n",
    "    print(\"The number\",n,\"is not an Armstrong number\")"
   ]
  },
  {
   "cell_type": "markdown",
   "id": "6d7682b0",
   "metadata": {},
   "source": [
    "5.Write a Python Program to Find Armstrong Number in an Interval?"
   ]
  },
  {
   "cell_type": "code",
   "execution_count": 13,
   "id": "667a1034",
   "metadata": {},
   "outputs": [
    {
     "name": "stdout",
     "output_type": "stream",
     "text": [
      "Enter lower range:50\n",
      "Enter upper range:1000\n",
      "153\n",
      "370\n",
      "371\n",
      "407\n"
     ]
    }
   ],
   "source": [
    "lower_range=int(input(\"Enter lower range:\"))\n",
    "upper_range=int(input(\"Enter upper range:\"))\n",
    "for i in range(lower_range,upper_range+1):\n",
    "    o=len(str(i))\n",
    "    c=0\n",
    "    d=i\n",
    "    while d>0:\n",
    "        s=d%10\n",
    "        c=c + (s**o)\n",
    "        d = d// 10\n",
    "    if i==c:\n",
    "        print(i)\n"
   ]
  },
  {
   "cell_type": "markdown",
   "id": "197cc7a8",
   "metadata": {},
   "source": [
    "6.Write a Python Program to Find the Sum of Natural Numbers?"
   ]
  },
  {
   "cell_type": "code",
   "execution_count": 4,
   "id": "34f9733b",
   "metadata": {},
   "outputs": [
    {
     "name": "stdout",
     "output_type": "stream",
     "text": [
      "Enter a number: 10\n",
      "The sum of 10 natural numbers is 55.0\n"
     ]
    }
   ],
   "source": [
    "n=int(input(\"Enter a number: \"))\n",
    "print(\"The sum of\",n,\"natural numbers is\",0.5*n*(n+1))"
   ]
  }
 ],
 "metadata": {
  "kernelspec": {
   "display_name": "Python 3 (ipykernel)",
   "language": "python",
   "name": "python3"
  },
  "language_info": {
   "codemirror_mode": {
    "name": "ipython",
    "version": 3
   },
   "file_extension": ".py",
   "mimetype": "text/x-python",
   "name": "python",
   "nbconvert_exporter": "python",
   "pygments_lexer": "ipython3",
   "version": "3.9.7"
  }
 },
 "nbformat": 4,
 "nbformat_minor": 5
}
